{
 "cells": [
  {
   "cell_type": "code",
   "execution_count": null,
   "id": "2406bf6e-731a-438b-a987-dd2d4d41e98f",
   "metadata": {},
   "outputs": [],
   "source": [
    "import pandas as pd\n",
    "import time\n",
    "import pyautogui\n",
    "import os\n",
    "path = './temp_WSS_CNES/pular_mun_lista.csv'\n",
    "\n",
    "while True:\n",
    "    df = pd.read_csv(path)\n",
    "    total = len(df.index)\n",
    "    if(total == 224):\n",
    "        break\n",
    "    time.sleep(100)\n",
    "    ti_m = os.path.getmtime(path)\n",
    "    m_ti = time.ctime(ti_m)\n",
    "    if(m_ti>200):\n",
    "        pyautogui.moveTo(560, 140, duration=1)\n",
    "        pyautogui.click(560, 140)\n",
    "        pyautogui.moveTo(840, 430, duration=1)\n",
    "        pyautogui.click(560, 140)"
   ]
  },
  {
   "cell_type": "code",
   "execution_count": null,
   "id": "01c5b396-e717-448d-a7d1-10cbff0ab89c",
   "metadata": {},
   "outputs": [],
   "source": []
  }
 ],
 "metadata": {
  "kernelspec": {
   "display_name": "Python 3 (ipykernel)",
   "language": "python",
   "name": "python3"
  },
  "language_info": {
   "codemirror_mode": {
    "name": "ipython",
    "version": 3
   },
   "file_extension": ".py",
   "mimetype": "text/x-python",
   "name": "python",
   "nbconvert_exporter": "python",
   "pygments_lexer": "ipython3",
   "version": "3.10.6"
  }
 },
 "nbformat": 4,
 "nbformat_minor": 5
}

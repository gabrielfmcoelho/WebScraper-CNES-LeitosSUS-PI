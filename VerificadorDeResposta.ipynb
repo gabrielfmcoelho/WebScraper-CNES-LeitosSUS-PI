{
 "cells": [
  {
   "cell_type": "code",
   "execution_count": 1,
   "id": "b0415bef-7825-4f63-8336-80adb97cded8",
   "metadata": {},
   "outputs": [],
   "source": [
    "import pandas as pd\n",
    "import time\n",
    "import pyautogui\n",
    "import os\n",
    "\n",
    "path = './temp_WSS_CNES/pular_mun_lista.csv'\n",
    "\n",
    "ultima_mod = ''"
   ]
  },
  {
   "cell_type": "code",
   "execution_count": null,
   "id": "2406bf6e-731a-438b-a987-dd2d4d41e98f",
   "metadata": {},
   "outputs": [
    {
     "name": "stdout",
     "output_type": "stream",
     "text": [
      "total:0\n",
      "Fri Jan 13 18:02:34 2023\n",
      "dando um tempo\n",
      "total:11\n",
      "Fri Jan 13 18:07:38 2023\n",
      "dando um tempo\n",
      "total:19\n",
      "Fri Jan 13 18:12:23 2023\n",
      "dando um tempo\n",
      "total:27\n",
      "Fri Jan 13 18:17:32 2023\n",
      "dando um tempo\n",
      "total:35\n",
      "Fri Jan 13 18:22:40 2023\n",
      "dando um tempo\n",
      "total:38\n",
      "Fri Jan 13 18:24:34 2023\n",
      "dando um tempo\n",
      "total:72\n",
      "Fri Jan 13 18:32:51 2023\n",
      "dando um tempo\n",
      "total:80\n",
      "Fri Jan 13 18:37:29 2023\n",
      "dando um tempo\n",
      "total:123\n",
      "Fri Jan 13 18:42:54 2023\n",
      "dando um tempo\n",
      "total:131\n",
      "Fri Jan 13 18:47:55 2023\n",
      "dando um tempo\n",
      "total:139\n",
      "Fri Jan 13 18:53:01 2023\n",
      "dando um tempo\n",
      "total:146\n",
      "Fri Jan 13 18:58:04 2023\n",
      "dando um tempo\n"
     ]
    }
   ],
   "source": [
    "while True:\n",
    "    pyautogui.moveTo(100, 140, duration=1)\n",
    "    df = pd.read_csv(path)\n",
    "    total = len(df.index)\n",
    "    print(f'total:{total}')\n",
    "    \n",
    "    if(total == 224):\n",
    "        break\n",
    "        \n",
    "    ti_m = os.path.getmtime(path)\n",
    "    m_ti = time.ctime(ti_m)\n",
    "    print(m_ti)\n",
    "    \n",
    "    if(ultima_mod == m_ti):\n",
    "        print(f'resetando...')\n",
    "        pyautogui.moveTo(520, 140, duration=1)\n",
    "        pyautogui.click(560, 140)\n",
    "        time.sleep(5)\n",
    "        pyautogui.moveTo(840, 430, duration=1)\n",
    "        pyautogui.click(560, 140)\n",
    "        time.sleep(30)\n",
    "        pyautogui.moveTo(560, 140, duration=1)\n",
    "        pyautogui.click(560, 140)\n",
    "        time.sleep(5)\n",
    "        pyautogui.moveTo(840, 430, duration=1)\n",
    "        pyautogui.click(560, 140)\n",
    "        \n",
    "        pyautogui.click(560, 140)\n",
    "        print(f'resetado')\n",
    "        print(f'dando um tempo')\n",
    "        time.sleep(300)\n",
    "        continue\n",
    "    \n",
    "    pyautogui.moveTo(200, 140, duration=1)\n",
    "    print(f'dando um tempo')\n",
    "    ultima_mod = m_ti\n",
    "    time.sleep(300)"
   ]
  },
  {
   "cell_type": "code",
   "execution_count": null,
   "id": "261c5563-672a-40c0-9193-8a939bd3cff1",
   "metadata": {},
   "outputs": [],
   "source": []
  }
 ],
 "metadata": {
  "kernelspec": {
   "display_name": "Python 3 (ipykernel)",
   "language": "python",
   "name": "python3"
  },
  "language_info": {
   "codemirror_mode": {
    "name": "ipython",
    "version": 3
   },
   "file_extension": ".py",
   "mimetype": "text/x-python",
   "name": "python",
   "nbconvert_exporter": "python",
   "pygments_lexer": "ipython3",
   "version": "3.10.6"
  }
 },
 "nbformat": 4,
 "nbformat_minor": 5
}
